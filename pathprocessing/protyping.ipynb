{
 "cells": [
  {
   "cell_type": "code",
   "execution_count": null,
   "metadata": {},
   "outputs": [],
   "source": [
    "from paths import LinearPaths2D\n",
    "import numpy as np\n",
    "import matplotlib.pyplot as plt\n",
    "from PIL import Image\n",
    "import cv2"
   ]
  },
  {
   "cell_type": "code",
   "execution_count": null,
   "metadata": {},
   "outputs": [],
   "source": [
    "import torchHED"
   ]
  },
  {
   "cell_type": "code",
   "execution_count": null,
   "metadata": {},
   "outputs": [],
   "source": [
    "out = torchHED.process_img(Image.fromarray(im))"
   ]
  },
  {
   "cell_type": "code",
   "execution_count": null,
   "metadata": {},
   "outputs": [],
   "source": [
    "np.array(im).shape"
   ]
  },
  {
   "cell_type": "code",
   "execution_count": null,
   "metadata": {},
   "outputs": [],
   "source": [
    "np.array(out).shape"
   ]
  },
  {
   "cell_type": "code",
   "execution_count": null,
   "metadata": {},
   "outputs": [],
   "source": [
    "out"
   ]
  },
  {
   "cell_type": "code",
   "execution_count": null,
   "metadata": {},
   "outputs": [],
   "source": [
    "#im = cv2.imread('MIT-logo-black-red.png')\n",
    "im = cv2.imread('dogs.png')\n",
    "#im = cv2.imread('degas-ballet-class.jpg')"
   ]
  },
  {
   "cell_type": "code",
   "execution_count": null,
   "metadata": {},
   "outputs": [],
   "source": [
    "imgray = cv2.cvtColor(im, cv2.COLOR_BGR2GRAY)\n",
    "ret, thresh = cv2.threshold(imgray, 127, 255, 0)\n",
    "contours, hirachy = cv2.findContours(thresh, cv2.RETR_LIST, cv2.CHAIN_APPROX_NONE)\n",
    "contours = [contour[:,0,:] for contour in contours]\n",
    "\n",
    "LinearPaths2D(contours).vflip().scale_to(0.3).viz()"
   ]
  },
  {
   "cell_type": "code",
   "execution_count": null,
   "metadata": {},
   "outputs": [],
   "source": [
    "# Canny Edge Detection\n",
    "#img_blur = cv2.GaussianBlur(im,(3,3), sigmaX=0, sigmaY=0) \n",
    "#out = create_line_drawing_image(im)\n",
    "\n",
    "#im_gray = np.array(Image.fromarray(im).convert('L'))\n",
    "im_inverted = cv2.bitwise_not(watercolour_image)\n",
    "img_blur = cv2.GaussianBlur(im_inverted,(3,3),0)\n",
    "#img_blur = cv2.divide(im_gray, 255 - img_blur, scale=250)\n",
    "edges = cv2.Canny(image=img_blur, threshold1=100, threshold2=200) \n",
    "contours, hirachy = cv2.findContours(edges, cv2.RETR_LIST, cv2.CHAIN_APPROX_NONE)\n",
    "\n",
    "contours = [contour[:,0,:] for contour in contours]\n",
    "LinearPaths2D(contours).vflip().scale_to(0.3).minimum_length(0.01).viz()"
   ]
  },
  {
   "cell_type": "code",
   "execution_count": null,
   "metadata": {},
   "outputs": [],
   "source": []
  },
  {
   "cell_type": "code",
   "execution_count": null,
   "metadata": {},
   "outputs": [],
   "source": [
    "watercolour_image = cv2.stylization(im, sigma_s=100, sigma_r=0.85)"
   ]
  },
  {
   "cell_type": "code",
   "execution_count": null,
   "metadata": {},
   "outputs": [],
   "source": [
    "im_inverted"
   ]
  },
  {
   "cell_type": "code",
   "execution_count": null,
   "metadata": {},
   "outputs": [],
   "source": [
    "Image.fromarray(watercolour_image)"
   ]
  },
  {
   "cell_type": "code",
   "execution_count": null,
   "metadata": {},
   "outputs": [],
   "source": [
    "Image.fromarray(out)"
   ]
  },
  {
   "cell_type": "code",
   "execution_count": null,
   "metadata": {},
   "outputs": [],
   "source": [
    "def create_line_drawing_image(img):\n",
    "    kernel = np.array([\n",
    "        [1, 1, 1, 1, 1],\n",
    "        [1, 1, 1, 1, 1],\n",
    "        [1, 1, 1, 1, 1],\n",
    "        [1, 1, 1, 1, 1],\n",
    "        [1, 1, 1, 1, 1],\n",
    "        ], np.uint8)\n",
    "    img_gray = cv2.cvtColor(img, cv2.COLOR_BGR2GRAY)\n",
    "    img_dilated = cv2.dilate(img_gray, kernel, iterations=1)\n",
    "    img_diff = cv2.absdiff(img_dilated, img_gray)\n",
    "    contour = 255 - img_diff\n",
    "    return contour\n",
    "\n",
    "def line_art_v2(img):\n",
    "    gray_image = cv2.cvtColor(img, cv2.COLOR_BGR2GRAY)\n",
    "    inverted_gray_image = 255 - gray_image\n",
    "    blurred_img = cv2.GaussianBlur(inverted_gray_image, (21,21),0)\n",
    "    inverted_blurred_img = 255 - blurred_img\n",
    "    pencil_sketch_IMG = cv2.divide(gray_image, inverted_blurred_img, scale = 256.0)\n",
    "    return pencil_sketch_IMG"
   ]
  },
  {
   "cell_type": "code",
   "execution_count": null,
   "metadata": {},
   "outputs": [],
   "source": [
    "\n",
    "Image.fromarray(line_art_v2(im))"
   ]
  },
  {
   "cell_type": "code",
   "execution_count": null,
   "metadata": {},
   "outputs": [],
   "source": [
    "Image.fromarray(create_line_drawing_image(im))"
   ]
  },
  {
   "cell_type": "code",
   "execution_count": null,
   "metadata": {},
   "outputs": [],
   "source": [
    "from IPython.display import SVG, display"
   ]
  },
  {
   "cell_type": "code",
   "execution_count": null,
   "metadata": {},
   "outputs": [],
   "source": [
    "display(SVG('geek95.svg'))"
   ]
  },
  {
   "cell_type": "code",
   "execution_count": null,
   "metadata": {},
   "outputs": [],
   "source": [
    "import cairo\n",
    "import os\n",
    "\n",
    "def draw_text(text:str, font:str = 'Poddins', slant:str = 'NORMAL', weight:str = 'NORMAL'):\n",
    "    \"\"\"Creates a LinearPaths2D object from text.\n",
    "    \n",
    "    Args:\n",
    "        text: Desired text.\n",
    "        font: Any of the supported cairo fonts.\n",
    "        slant: Choose from NORMAL, ITALIC, OBLIQUE.\n",
    "        weight: Choose from NORMAL, BOLD.\n",
    "    \"\"\"\n",
    "    _FONT_SIZE = 50\n",
    "    _TEMP_FILE_NAME = 'tmp_pathprocessing'\n",
    "    with cairo.SVGSurface(_TEMP_FILE_NAME, len(text) * _FONT_SIZE, _FONT_SIZE + 2) as surface:\n",
    "        # creating a cairo context object for SVG surface\n",
    "        # using Context method\n",
    "        Context = cairo.Context(surface)\n",
    "        # approximate text height\n",
    "        Context.set_font_size(_FONT_SIZE)\n",
    "        \n",
    "        # Font Style\n",
    "        Context.select_font_face(\n",
    "            font, cairo.FONT_SLANT_NORMAL, cairo.FONT_WEIGHT_NORMAL)\n",
    "        \n",
    "        # position for the text\n",
    "        Context.move_to(0, _FONT_SIZE)\n",
    "        \n",
    "        # displays the text\n",
    "        Context.text_path(text)\n",
    "        \n",
    "        # Width of outline\n",
    "        Context.set_line_width(1)\n",
    "        \n",
    "        # stroke out the color and width property\n",
    "        Context.stroke()\n",
    "    \n",
    "    paths = LinearPaths2D.from_svg(_TEMP_FILE_NAME)\n",
    "    os.remove(_TEMP_FILE_NAME)\n",
    "    return paths\n",
    "\n",
    "draw_text('hallo')"
   ]
  },
  {
   "cell_type": "code",
   "execution_count": null,
   "metadata": {},
   "outputs": [],
   "source": [
    "text_obj"
   ]
  },
  {
   "cell_type": "code",
   "execution_count": null,
   "metadata": {},
   "outputs": [],
   "source": [
    "LinearPaths2D.from_svg('test.svg').scale_to(0.3).viz()"
   ]
  },
  {
   "cell_type": "code",
   "execution_count": null,
   "metadata": {},
   "outputs": [],
   "source": []
  },
  {
   "cell_type": "code",
   "execution_count": null,
   "metadata": {},
   "outputs": [],
   "source": [
    "from svgpathtools import svg2paths, CubicBezier, Line"
   ]
  },
  {
   "cell_type": "code",
   "execution_count": null,
   "metadata": {},
   "outputs": [],
   "source": [
    "svg_paths,_ = svg2paths('spot.svg', *[False]*7)"
   ]
  },
  {
   "cell_type": "code",
   "execution_count": null,
   "metadata": {},
   "outputs": [],
   "source": [
    "svg_paths[27].continuous_subpaths()"
   ]
  },
  {
   "cell_type": "code",
   "execution_count": null,
   "metadata": {},
   "outputs": [],
   "source": [
    "sum([path.continuous_subpaths() for path in svg_paths][10])"
   ]
  },
  {
   "cell_type": "code",
   "execution_count": null,
   "metadata": {},
   "outputs": [],
   "source": [
    "#svg_paths[0][0].points(np.linspace(0,1,20))\n",
    "paths = []\n",
    "for path in sum([path.continuous_subpaths() for path in svg_paths], []):\n",
    "    linear_path = np.concatenate([segment.point(np.linspace(0,1, int(segment.length()/1.0 + 1))) for segment in path])\n",
    "    paths += [np.vstack([linear_path.real, linear_path.imag]).T]\n",
    "\n",
    "paths = LinearPaths2D(paths).vflip()"
   ]
  },
  {
   "cell_type": "code",
   "execution_count": null,
   "metadata": {},
   "outputs": [],
   "source": [
    "paths.compress().number_of_segments()"
   ]
  },
  {
   "cell_type": "code",
   "execution_count": null,
   "metadata": {},
   "outputs": [],
   "source": [
    "paths.viz()"
   ]
  },
  {
   "cell_type": "code",
   "execution_count": null,
   "metadata": {},
   "outputs": [],
   "source": [
    "paths.compress().number_of_segments()"
   ]
  },
  {
   "cell_type": "code",
   "execution_count": null,
   "metadata": {},
   "outputs": [],
   "source": [
    "SQUARE = LinearPaths2D([np.array([[0, 0], [1, 0], [1, 1], [0, 1], [0, 0]])])"
   ]
  },
  {
   "cell_type": "code",
   "execution_count": null,
   "metadata": {},
   "outputs": [],
   "source": [
    "[path.astype(int).tolist() for path in LinearPaths2D.vstack([SQUARE]*5, 0.5)._paths]"
   ]
  },
  {
   "cell_type": "code",
   "execution_count": null,
   "metadata": {},
   "outputs": [],
   "source": [
    "LinearPaths2D.vstack([SQUARE]*5, 0.5).tolist()"
   ]
  },
  {
   "cell_type": "code",
   "execution_count": null,
   "metadata": {},
   "outputs": [],
   "source": [
    "from rdp import rdp"
   ]
  },
  {
   "cell_type": "code",
   "execution_count": null,
   "metadata": {},
   "outputs": [],
   "source": [
    "rdp(paths[1], 2)"
   ]
  },
  {
   "cell_type": "code",
   "execution_count": null,
   "metadata": {},
   "outputs": [],
   "source": [
    "paths = LinearPaths2D([np.array([[0,0], [1,1]]),\n",
    "                        np.array([[0,0], [0,1], [1,1]]),\n",
    "                        np.array([[3,-1], [2,3], [1,1]])])"
   ]
  },
  {
   "cell_type": "code",
   "execution_count": null,
   "metadata": {},
   "outputs": [],
   "source": [
    "paths.viz()"
   ]
  },
  {
   "cell_type": "code",
   "execution_count": null,
   "metadata": {},
   "outputs": [],
   "source": [
    "min_x, _, max_x, _ = paths.bbox()\n",
    "width = float(abs(max_x - min_x))\n",
    "\n",
    "offset_to_center = min_x + width / 2\n",
    "\n",
    "#return self.shift(x=-offset_to_center).scale_to(w=-1).shift(x=offset_to_center)\n"
   ]
  },
  {
   "attachments": {},
   "cell_type": "markdown",
   "metadata": {},
   "source": [
    "## TOPRA"
   ]
  },
  {
   "cell_type": "code",
   "execution_count": null,
   "metadata": {},
   "outputs": [],
   "source": [
    "from pydrake.all import Toppra, MultibodyPlant, SpatialInertia, PlanarJoint, PiecewisePolynomial, UnitInertia, CalcGridPointsOptions,ToppraDiscretization, PathParameterizedTrajectory"
   ]
  },
  {
   "cell_type": "code",
   "execution_count": null,
   "metadata": {},
   "outputs": [],
   "source": [
    "spot_drawing = LinearPaths2D.from_svg('spot.svg')\n",
    "spot_drawing = spot_drawing.scale_to(0.45).center().compress(1e-4).minimum_length(0.1).shift(y=0.16)\n",
    "\n",
    "subtitle = LinearPaths2D.from_string('Spot', font='Poddins').scale_to(0.3).center().shift(0.05).compress()\n",
    "\n",
    "drawing = LinearPaths2D.vstack([subtitle, spot_drawing]).shift(y=-0.1)\n",
    "drawing = LinearPaths2D(list(filter(lambda path: len(path)>3, drawing))).shift(-0.05,y=-0.1)\n",
    "drawing.viz()"
   ]
  },
  {
   "cell_type": "code",
   "execution_count": null,
   "metadata": {},
   "outputs": [],
   "source": [
    "drawing = LinearPaths2D.from_string('p').scale_to(0.2).center().compress()\n",
    "drawing.viz()"
   ]
  },
  {
   "cell_type": "code",
   "execution_count": null,
   "metadata": {},
   "outputs": [],
   "source": [
    "angle_between(drawing[0][0], drawing[0][1])"
   ]
  },
  {
   "cell_type": "code",
   "execution_count": null,
   "metadata": {},
   "outputs": [],
   "source": [
    "drawing[:1].viz()"
   ]
  },
  {
   "cell_type": "code",
   "execution_count": null,
   "metadata": {},
   "outputs": [],
   "source": []
  },
  {
   "cell_type": "code",
   "execution_count": null,
   "metadata": {},
   "outputs": [],
   "source": [
    "vectors = drawing[0][1:] - drawing[0][:-1]\n",
    "vectors_u = vectors / np.linalg.norm(vectors, axis = 1)[:,None]"
   ]
  },
  {
   "cell_type": "code",
   "execution_count": null,
   "metadata": {},
   "outputs": [],
   "source": [
    "drawing[0][:0]"
   ]
  },
  {
   "cell_type": "code",
   "execution_count": null,
   "metadata": {},
   "outputs": [],
   "source": [
    "x = [drawing[0][idx][0] for idx in range(len(drawing[0]))]\n",
    "y = [drawing[0][idx][1] for idx in range(len(drawing[0]))]\n",
    "\n",
    "x = [drawing[0][idx + 1][0] for idx in sharp_idx]\n",
    "y = [drawing[0][idx + 1][1] for idx in sharp_idx]\n",
    "plt.plot(*drawing[0].T)\n",
    "plt.scatter(x,y)\n",
    "plt.scatter([drawing[0][0,0]], [drawing[0][0,1]], color='red')\n",
    "plt.axis('square')"
   ]
  },
  {
   "cell_type": "code",
   "execution_count": null,
   "metadata": {},
   "outputs": [],
   "source": [
    "np.dot(vectors_u, vectors_u)"
   ]
  },
  {
   "cell_type": "code",
   "execution_count": null,
   "metadata": {},
   "outputs": [],
   "source": [
    "vectors.shape"
   ]
  },
  {
   "cell_type": "code",
   "execution_count": null,
   "metadata": {},
   "outputs": [],
   "source": [
    "1/np.linalg.norm(vectors, axis = 1)"
   ]
  },
  {
   "cell_type": "code",
   "execution_count": null,
   "metadata": {},
   "outputs": [],
   "source": [
    "def parametrize_path(drawing_path):\n",
    "    max_speed = 2\n",
    "    max_acceleration = 0.3\n",
    "    plant = MultibodyPlant(0)\n",
    "    M_B = SpatialInertia(1, np.zeros(3), UnitInertia(1, 1, 1))\n",
    "    body = plant.AddRigidBody(\"body\", M_B)\n",
    "    joint = PlanarJoint(\"joint\", plant.world_frame(), body.body_frame(), damping=[0]*3)\n",
    "    plant.AddJoint(joint)\n",
    "    plant.Finalize()\n",
    "\n",
    "    # Slice path at sharp corners.\n",
    "    vectors = drawing_path[1:] - drawing_path[:-1]\n",
    "    vectors_u = vectors / np.linalg.norm(vectors, axis = 1)[:,None]\n",
    "    sharp_idx = []\n",
    "    for i in range(len(vectors_u)-1):\n",
    "        angle = np.arccos(np.clip((vectors_u[i]).dot(vectors_u[i+1]), -1.,1.))*180/np.pi\n",
    "        if angle > 60:\n",
    "            sharp_idx.append(i+1)\n",
    "    # If no sharp corners were detected, use entire trajectory.\n",
    "    if not len(sharp_idx):\n",
    "        sharp_idx = [0, len(drawing_path)-1]\n",
    "\n",
    "    # add first index if it was not provided.\n",
    "    if sharp_idx[0] != 0:\n",
    "        sharp_idx = [0] + sharp_idx\n",
    "    # Add last index if it was not provided.\n",
    "    if sharp_idx[-1] != len(drawing_path)-1:\n",
    "        sharp_idx.append(len(drawing_path)-1)\n",
    "\n",
    "    slices = zip(sharp_idx[:-1], sharp_idx[1:])\n",
    "    strokes = [drawing_path[a:b+1] for a,b in slices]\n",
    "\n",
    "    # for each stroke solve TOPPRA.\n",
    "    trajectories = []\n",
    "    for stroke in strokes:\n",
    "        breaks = np.arange(len(stroke))\n",
    "        samples = np.hstack([stroke, np.zeros((len(stroke), 1))])\n",
    "\n",
    "        #path = PiecewisePolynomial.FirstOrderHold(\n",
    "        #    breaks, samples.T)\n",
    "        path = PiecewisePolynomial.CubicShapePreserving(\n",
    "            breaks, samples.T, True)\n",
    "\n",
    "        #path = PiecewisePolynomial.CubicHermite(\n",
    "        #    breaks, samples.T, 3*[0], 3*[0])\n",
    "        #ts = np.linspace(0, path.end_time(), int(np.ceil(path.end_time()*1/0.01)))\n",
    "        #new_samples = np.hstack([path.value(t) for t in ts])\n",
    "        #path = PiecewisePolynomial.CubicWithContinuousSecondDerivatives(\n",
    "        #    breaks, samples.T, [0,0,0],[0,0,0])\n",
    "\n",
    "        gridpoints_options = CalcGridPointsOptions()\n",
    "        #gridpoints_options.max_seg_length = 0.002\n",
    "        gridpoints_options.max_seg_length = 0.01\n",
    "        gridpoints_options.max_err = 1e-5\n",
    "        gridpoints_options.max_iter = 300\n",
    "        gridpoints_options.min_points = len(stroke)\n",
    "        gridpoints = Toppra.CalcGridPoints(path, gridpoints_options)\n",
    "\n",
    "        toppra = Toppra(path=path, plant=plant, gridpoints=gridpoints)\n",
    "        toppra.AddJointVelocityLimit([-max_speed]*2 + [0], [max_speed]*2 +  [0])\n",
    "        toppra.AddJointAccelerationLimit([-max_acceleration]*2 + [0], [max_acceleration]*2 + [0], ToppraDiscretization.kInterpolation)\n",
    "\n",
    "        time_scaling = toppra.SolvePathParameterization()\n",
    "        trajectories.append(PathParameterizedTrajectory(path, time_scaling))\n",
    "    \n",
    "    return trajectories\n",
    "    #ts = np.linspace(0, trajectory.end_time(), int(np.ceil(trajectory.end_time()*1/0.01)))\n",
    "    ##new_samples = np.hstack([path.value(trajectory.value(t)) for t in ts])[(0,1),:]\n",
    "    #\n",
    "    #\n",
    "    #\n",
    "    ##ts = trajectory.get_segment_times()\n",
    "    ##ts = [-1]\n",
    "    ##for t in trajectory.get_segment_times():\n",
    "    ##    if abs(ts[-1] - t) >= 1e-3:\n",
    "    ##        ts.append(t)\n",
    "    ##ts = ts[1:]\n",
    "    ###ts = trajectory.get_segment_times()\n",
    "    ##\n",
    "    #\n",
    "    ##\n",
    "\n",
    "    ts = np.linspace(0, new_path.end_time(), int(np.ceil(new_path.end_time()*1/0.01)))\n",
    "    new_path_pos = np.hstack([new_path.value(t) for t in ts])\n",
    "    new_path_vel = np.hstack([new_path.EvalDerivative(t, 1) for t in ts])\n",
    "    new_path_acc = np.hstack([new_path.EvalDerivative(t, 2) for t in ts])\n",
    "    #new_path = PiecewisePolynomial.CubicWithContinuousSecondDerivatives(ts, new_samples, [0,0], [0,0])\n",
    "    ##new_path = PiecewisePolynomial.CubicShapePreserving(ts, new_samples, True)\n",
    "    #new_path = PiecewisePolynomial.FirstOrderHold(ts, new_samples)#, True)\n",
    "    #new_path_pos = np.array([new_path.value(t) for t in ts] + [new_path.value(ts[-1])])\n",
    "    #new_path_vel = new_path.MakeDerivative(1)\n",
    "    #path_vel = np.vstack([new_path_vel.value(t).T for t in ts] + [np.array([0,0])])\n",
    "    #ts = np.hstack([ts, np.array([ts[-1] + 0.3])])\n",
    "    ##ts = np.array(ts + [ts[-1] + 0.3])\n",
    "    ##"
   ]
  },
  {
   "cell_type": "code",
   "execution_count": null,
   "metadata": {},
   "outputs": [],
   "source": [
    "optimized_paths = [parametrize_path(path) for path in drawing]"
   ]
  },
  {
   "cell_type": "code",
   "execution_count": null,
   "metadata": {},
   "outputs": [],
   "source": [
    "plot_trajectory(sum(optimized_paths,[]))"
   ]
  },
  {
   "cell_type": "code",
   "execution_count": null,
   "metadata": {},
   "outputs": [],
   "source": [
    "plot_trajectory(optimized_paths)"
   ]
  },
  {
   "cell_type": "code",
   "execution_count": null,
   "metadata": {},
   "outputs": [],
   "source": [
    "ts = np.linspace(0, optimized_paths[0].end_time(), int(np.ceil(optimized_paths[0].end_time()*1/0.01)))\n",
    "new_path_pos = np.hstack([optimized_paths[0].value(t) for t in ts])\n",
    "new_path_vel = np.hstack([optimized_paths[0].EvalDerivative(t, 1) for t in ts])\n",
    "new_path_acc = np.hstack([optimized_paths[0].EvalDerivative(t, 2) for t in ts])\n"
   ]
  },
  {
   "cell_type": "code",
   "execution_count": null,
   "metadata": {},
   "outputs": [],
   "source": [
    "plt.figure(figsize=(15,15))\n",
    "plt.plot(ts, new_path_acc[0,:])\n",
    "plt.plot(ts, new_path_acc[1,:])"
   ]
  },
  {
   "cell_type": "code",
   "execution_count": null,
   "metadata": {},
   "outputs": [],
   "source": [
    "plt.figure(figsize=(15,15))\n",
    "plt.plot(ts, new_path_vel[0,:])\n",
    "plt.plot(ts, new_path_vel[1,:])"
   ]
  },
  {
   "cell_type": "code",
   "execution_count": null,
   "metadata": {},
   "outputs": [],
   "source": [
    "plt.figure(figsize=(15,15))\n",
    "plt.plot(new_path_pos[0,:], new_path_pos[1,:])\n",
    "plt.axis('square')"
   ]
  },
  {
   "cell_type": "code",
   "execution_count": null,
   "metadata": {},
   "outputs": [],
   "source": [
    "plot_trajectory(optimized_paths)"
   ]
  },
  {
   "cell_type": "code",
   "execution_count": null,
   "metadata": {},
   "outputs": [],
   "source": [
    "visalize_trajectory([new_path], paths, 1/32.)"
   ]
  },
  {
   "cell_type": "code",
   "execution_count": null,
   "metadata": {},
   "outputs": [],
   "source": [
    "visalize_trajectory(traj_list[17:18], drawing, 1/32.)"
   ]
  },
  {
   "cell_type": "code",
   "execution_count": null,
   "metadata": {},
   "outputs": [],
   "source": [
    "from matplotlib.animation import FuncAnimation"
   ]
  },
  {
   "cell_type": "code",
   "execution_count": null,
   "metadata": {},
   "outputs": [],
   "source": [
    "sum(traj_list, PiecewisePolynomial)"
   ]
  },
  {
   "cell_type": "code",
   "execution_count": null,
   "metadata": {},
   "outputs": [],
   "source": [
    "### helpers\n",
    " \n",
    "def plot_trajectory(traj_list):\n",
    "    plt.figure(figsize=(15, 15))\n",
    "    for traj in traj_list:\n",
    "        times = np.linspace(traj.start_time(), traj.end_time(), 1000)\n",
    "        path = np.hstack([traj.value(t) for t in times]).T\n",
    "    \n",
    "        plt.plot(path[:,0], path[:,1])\n",
    "\n",
    "    plt.axis('square')\n",
    "    \n",
    "def visalize_trajectory(x_traj_list, paths, frame_rate = 1/16.0):\n",
    "    plt.rcParams[\"animation.html\"] = \"jshtml\"\n",
    "    plt.rcParams['figure.dpi'] = 80  \n",
    "    plt.rcParams['animation.embed_limit'] = 8**128\n",
    "    plt.ioff()\n",
    "    \n",
    "    x_traj = x_traj_list[0]\n",
    "    frame_to_time = np.hstack((np.arange(x_traj.start_time(), x_traj.end_time(),frame_rate),x_traj.end_time()))\n",
    "    number_of_frames = len(frame_to_time)\n",
    "    path = np.hstack([x_traj.value(t) for t in frame_to_time]).T\n",
    "\n",
    "    for x_traj in x_traj_list[1:]:\n",
    "        frame_to_time = np.hstack((frame_to_time, np.arange(frame_to_time[-1] + x_traj.start_time(), frame_to_time[-1] + x_traj.end_time(),frame_rate),frame_to_time[-1] + x_traj.end_time()))\n",
    "        frame_to_time_local = np.hstack((np.arange(x_traj.start_time(), x_traj.end_time(),frame_rate), x_traj.end_time()))\n",
    "        number_of_frames += len(frame_to_time_local)\n",
    "        path_tmp = np.hstack([x_traj.value(t) for t in frame_to_time_local]).T\n",
    "        path = np.vstack([path, path_tmp])\n",
    "    \n",
    "    fig = plt.figure(figsize=(10, 10))\n",
    "    ax = fig.add_subplot(1,1,1)\n",
    "\n",
    "    def animate(frame_number):\n",
    "        current_q = path[frame_number]\n",
    "        ax.clear()\n",
    "        \n",
    "        ax.plot(path[:frame_number+1,0], path[:frame_number+1,1], zorder=5, color='blue', linewidth=2.0)\n",
    "        #ax.plot(ref_path[:,0], ref_path[:,1], zorder=5, color='orange', linewidth=1.0, linestyle='dashed')\n",
    "        ax.scatter(*current_q, color='red', linewidth=3.0, facecolors='none',zorder=6)\n",
    "        #c = np.hstack(traj.control_points()[::order]).T\n",
    "        #ax.scatter(c[:,0], c[:,1], color='green')\n",
    "\n",
    "        ax.axis('square')\n",
    "        ax.set_title(\"t = {:.3f}\".format(frame_to_time[frame_number]))\n",
    "        min_x, min_y, max_x, max_y = paths.bbox\n",
    "        ax.set_xlim(min_x, max_x)\n",
    "        ax.set_ylim(min_y, max_y)\n",
    "\n",
    "    return FuncAnimation(fig, animate, frames=number_of_frames, interval=33.4)\n",
    "    "
   ]
  },
  {
   "cell_type": "code",
   "execution_count": null,
   "metadata": {},
   "outputs": [],
   "source": [
    "np.arange(0,10,1/6).shape"
   ]
  },
  {
   "cell_type": "code",
   "execution_count": null,
   "metadata": {},
   "outputs": [],
   "source": [
    "a = np.hstack((np.arange(traj_list[0].start_time(), traj_list[0].end_time(),1/32.0),traj_list[0].end_time()))"
   ]
  },
  {
   "cell_type": "code",
   "execution_count": null,
   "metadata": {},
   "outputs": [],
   "source": [
    "np.hstack([a,a]).shape"
   ]
  },
  {
   "cell_type": "code",
   "execution_count": null,
   "metadata": {},
   "outputs": [],
   "source": [
    "16.7*2"
   ]
  },
  {
   "cell_type": "code",
   "execution_count": null,
   "metadata": {},
   "outputs": [],
   "source": [
    "trajectory.end_time()"
   ]
  },
  {
   "cell_type": "code",
   "execution_count": null,
   "metadata": {},
   "outputs": [],
   "source": [
    "visalize_trajectory(trajectory)"
   ]
  },
  {
   "cell_type": "code",
   "execution_count": null,
   "metadata": {},
   "outputs": [],
   "source": [
    "visalize_trajectory(trajectory)"
   ]
  },
  {
   "cell_type": "code",
   "execution_count": null,
   "metadata": {},
   "outputs": [],
   "source": [
    "plot_trajectory(trajectory)"
   ]
  },
  {
   "cell_type": "code",
   "execution_count": null,
   "metadata": {},
   "outputs": [],
   "source": [
    "plt.plot"
   ]
  },
  {
   "cell_type": "code",
   "execution_count": null,
   "metadata": {},
   "outputs": [],
   "source": [
    "np.linspace"
   ]
  },
  {
   "cell_type": "code",
   "execution_count": null,
   "metadata": {},
   "outputs": [],
   "source": [
    "trajectory.start_time()\n",
    "trajectory.end_time()"
   ]
  },
  {
   "cell_type": "code",
   "execution_count": null,
   "metadata": {},
   "outputs": [],
   "source": [
    "test = False"
   ]
  },
  {
   "cell_type": "code",
   "execution_count": null,
   "metadata": {},
   "outputs": [],
   "source": [
    "test = not test \n",
    "print(test)"
   ]
  },
  {
   "cell_type": "code",
   "execution_count": 1,
   "metadata": {},
   "outputs": [],
   "source": [
    "import paths"
   ]
  },
  {
   "cell_type": "markdown",
   "metadata": {},
   "source": []
  },
  {
   "cell_type": "code",
   "execution_count": 47,
   "metadata": {},
   "outputs": [
    {
     "data": {
      "text/plain": [
       "32.566"
      ]
     },
     "execution_count": 47,
     "metadata": {},
     "output_type": "execute_result"
    }
   ],
   "source": [
    "test = paths.LinearPaths2D.make_qrcode('h', 0.2, 0.01)\n",
    "round(sum(sum(sum(test.tolist(), []), [])), 3)"
   ]
  },
  {
   "cell_type": "code",
   "execution_count": 32,
   "metadata": {},
   "outputs": [
    {
     "data": {
      "image/png": "[encoded data removed]",
      "text/plain": [
       "<Figure size 432x288 with 1 Axes>"
      ]
     },
     "metadata": {
      "needs_background": "light"
     },
     "output_type": "display_data"
    }
   ],
   "source": [
    "test.viz()"
   ]
  },
  {
   "cell_type": "code",
   "execution_count": 43,
   "metadata": {},
   "outputs": [
    {
     "data": {
      "text/plain": [
       "32.565663065961814"
      ]
     },
     "execution_count": 43,
     "metadata": {},
     "output_type": "execute_result"
    }
   ],
   "source": [
    "sum(sum(sum(test.tolist(), []), []))"
   ]
  },
  {
   "cell_type": "code",
   "execution_count": 8,
   "metadata": {},
   "outputs": [],
   "source": [
    "import qrcode\n",
    "import numpy as np\n",
    "qr = qrcode.QRCode(\n",
    "    version=None,\n",
    "    error_correction=qrcode.constants.ERROR_CORRECT_L,\n",
    "    box_size=10,\n",
    "    border=1,\n",
    ")\n",
    "qr.add_data(\"fuck\")\n",
    "qr.make(fit=True)\n",
    "\n",
    "# Raster image.\n",
    "im = np.array(qr.make_image(fill_color=\"black\", back_color=\"white\"))\n",
    " "
   ]
  },
  {
   "cell_type": "code",
   "execution_count": 11,
   "metadata": {},
   "outputs": [
    {
     "data": {
      "text/plain": [
       "(230, 230)"
      ]
     },
     "execution_count": 11,
     "metadata": {},
     "output_type": "execute_result"
    }
   ],
   "source": [
    "im.shape"
   ]
  },
  {
   "cell_type": "code",
   "execution_count": 14,
   "metadata": {},
   "outputs": [
    {
     "data": {
      "text/plain": [
       "False"
      ]
     },
     "execution_count": 14,
     "metadata": {},
     "output_type": "execute_result"
    }
   ],
   "source": [
    "im.dtype == float"
   ]
  },
  {
   "cell_type": "code",
   "execution_count": null,
   "metadata": {},
   "outputs": [],
   "source": []
  }
 ],
 "metadata": {
  "kernelspec": {
   "display_name": "Python 3",
   "language": "python",
   "name": "python3"
  },
  "language_info": {
   "codemirror_mode": {
    "name": "ipython",
    "version": 3
   },
   "file_extension": ".py",
   "mimetype": "text/x-python",
   "name": "python",
   "nbconvert_exporter": "python",
   "pygments_lexer": "ipython3",
   "version": "3.10.6"
  },
  "orig_nbformat": 4,
  "vscode": {
   "interpreter": {
    "hash": "e7370f93d1d0cde622a1f8e1c04877d8463912d04d973331ad4851f04de6915a"
   }
  }
 },
 "nbformat": 4,
 "nbformat_minor": 2
}
